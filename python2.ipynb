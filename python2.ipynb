{
 "cells": [
  {
   "cell_type": "code",
   "execution_count": 280,
   "id": "d1eddbea-2fd0-4e78-b0a2-f735a7cffa63",
   "metadata": {},
   "outputs": [],
   "source": [
    "#ex1\n",
    "def greeting():\n",
    "    \n",
    "   print('Hello,Python')"
   ]
  },
  {
   "cell_type": "code",
   "execution_count": 282,
   "id": "b266c40d-bfbc-43cf-8cda-0291c32f4cc5",
   "metadata": {},
   "outputs": [
    {
     "name": "stdout",
     "output_type": "stream",
     "text": [
      "Hello,Python\n"
     ]
    }
   ],
   "source": [
    "greeting()"
   ]
  },
  {
   "cell_type": "code",
   "execution_count": 296,
   "id": "48fdaf27-5edd-4018-bca7-0e8e6a60c0b1",
   "metadata": {},
   "outputs": [
    {
     "name": "stdin",
     "output_type": "stream",
     "text": [
      "enter nb x  10\n",
      "enter nb y  10\n"
     ]
    },
    {
     "name": "stdout",
     "output_type": "stream",
     "text": [
      "20 addition\n",
      "0 sub\n",
      "1.0 quotient\n",
      "100 product\n"
     ]
    }
   ],
   "source": [
    "#ex2\n",
    "\n",
    "def arithmetic():\n",
    "    a=int(input('enter nb x '))\n",
    "    b=int(input('enter nb y '))\n",
    "    \n",
    "    print(a+b , 'addition')\n",
    "    print(a-b , 'sub')\n",
    "    print(a/b , 'quotient')\n",
    "    print(a*b , 'product')\n",
    "\n",
    "arithmetic()"
   ]
  },
  {
   "cell_type": "code",
   "execution_count": 27,
   "id": "19c9ce16-d050-4138-be1b-c345fc12ce33",
   "metadata": {},
   "outputs": [
    {
     "name": "stdout",
     "output_type": "stream",
     "text": [
      "Hello,Zein!\n"
     ]
    }
   ],
   "source": [
    "#ex3\n",
    "name='Zein'\n",
    "print(f'Hello,{name}!')"
   ]
  },
  {
   "cell_type": "code",
   "execution_count": 67,
   "id": "fe96238e-f855-4bb7-8129-ad01d3a4828e",
   "metadata": {},
   "outputs": [
    {
     "name": "stdout",
     "output_type": "stream",
     "text": [
      "['ESADE', 'UIB', 'AUB', 'LAU', 'LIU', 'ISL']\n"
     ]
    }
   ],
   "source": [
    "#ex4\n",
    "universities=['ESADE','UIB','AUB','LAU','LIU','ISL']\n",
    "print(universities)"
   ]
  },
  {
   "cell_type": "code",
   "execution_count": 69,
   "id": "4e0f1730-6535-460f-a8fd-df7ce24ae5de",
   "metadata": {},
   "outputs": [
    {
     "name": "stdout",
     "output_type": "stream",
     "text": [
      "ESADE ISL\n"
     ]
    }
   ],
   "source": [
    "print(universities[0],universities[5])\n"
   ]
  },
  {
   "cell_type": "code",
   "execution_count": 312,
   "id": "698a4d48-930f-4fd2-bcbb-24af6db57437",
   "metadata": {},
   "outputs": [
    {
     "name": "stdout",
     "output_type": "stream",
     "text": [
      "name :Zein\n",
      "age :23\n",
      "grade :88\n"
     ]
    }
   ],
   "source": [
    "#ex5\n",
    "student={ 'name':'Zein' , 'age':'23', 'grade':'88'}\n",
    "for key,value in student.items() :\n",
    "     print(f'{key} :{value}')"
   ]
  },
  {
   "cell_type": "code",
   "execution_count": null,
   "id": "059f70b0-392a-4c5b-b91e-8a6a4cbbaf1d",
   "metadata": {},
   "outputs": [],
   "source": []
  },
  {
   "cell_type": "code",
   "execution_count": 87,
   "id": "3b297418-d651-452c-a593-00d3390f5baf",
   "metadata": {},
   "outputs": [
    {
     "name": "stdout",
     "output_type": "stream",
     "text": [
      "{'name': 'Zein', 'age': '23', 'grade': '88'}\n"
     ]
    }
   ],
   "source": [
    "print(student)"
   ]
  },
  {
   "cell_type": "code",
   "execution_count": 95,
   "id": "0f5d1c0a-f330-49fc-943f-364a0c8df31a",
   "metadata": {},
   "outputs": [
    {
     "name": "stdout",
     "output_type": "stream",
     "text": [
      "[0] [1]\n"
     ]
    }
   ],
   "source": [
    "#ex6\n",
    "coordinates=(4,10)\n",
    "print([0],[1])"
   ]
  },
  {
   "cell_type": "code",
   "execution_count": 117,
   "id": "d112f222-21fb-45c3-a256-236eafb31d44",
   "metadata": {},
   "outputs": [
    {
     "name": "stdout",
     "output_type": "stream",
     "text": [
      "{'Green', 'Blue', 'Red'}\n",
      "{'Green', 'Black', 'Blue', 'Red'}\n"
     ]
    }
   ],
   "source": [
    "#ex7\n",
    "colors ={'Red','Green','Blue'}\n",
    "print(colors)\n"
   ]
  },
  {
   "cell_type": "code",
   "execution_count": 147,
   "id": "94a39eab-3a3d-4a5b-b3c8-cd52d39d782f",
   "metadata": {},
   "outputs": [
    {
     "name": "stdout",
     "output_type": "stream",
     "text": [
      "{'Green', 'Black', 'Blue', 'Red'}\n"
     ]
    }
   ],
   "source": [
    "colors.add('Black')\n",
    "print(colors)\n"
   ]
  },
  {
   "cell_type": "code",
   "execution_count": 125,
   "id": "5269a5bb-2479-46ba-9709-92cd8a7c4c15",
   "metadata": {},
   "outputs": [
    {
     "data": {
      "text/plain": [
       "{'Black', 'Blue', 'Green', 'Red'}"
      ]
     },
     "execution_count": 125,
     "metadata": {},
     "output_type": "execute_result"
    }
   ],
   "source": [
    "colors.add('Blue')\n",
    "colors"
   ]
  },
  {
   "cell_type": "code",
   "execution_count": 145,
   "id": "fbe6bed6-c3f1-4cc0-9228-cccab944d29d",
   "metadata": {},
   "outputs": [
    {
     "data": {
      "text/plain": [
       "{'Blue', 'Green', 'Red'}"
      ]
     },
     "execution_count": 145,
     "metadata": {},
     "output_type": "execute_result"
    }
   ],
   "source": [
    "colors.discard('Black')\n",
    "colors"
   ]
  },
  {
   "cell_type": "code",
   "execution_count": 151,
   "id": "f6eeea16-7a12-4f21-a327-562b40260312",
   "metadata": {},
   "outputs": [
    {
     "data": {
      "text/plain": [
       "{'orange', 'white', 'yellow'}"
      ]
     },
     "execution_count": 151,
     "metadata": {},
     "output_type": "execute_result"
    }
   ],
   "source": [
    "light_colors={'yellow','orange','white'}\n",
    "light_colors"
   ]
  },
  {
   "cell_type": "code",
   "execution_count": 153,
   "id": "dd5b044e-811a-43dc-951c-85410132b883",
   "metadata": {},
   "outputs": [
    {
     "data": {
      "text/plain": [
       "{'Black', 'Blue', 'Green', 'Red', 'orange', 'white', 'yellow'}"
      ]
     },
     "execution_count": 153,
     "metadata": {},
     "output_type": "execute_result"
    }
   ],
   "source": [
    "colors.union(light_colors)"
   ]
  },
  {
   "cell_type": "code",
   "execution_count": 188,
   "id": "b94562ba-6087-4ded-80e6-f204299537c4",
   "metadata": {},
   "outputs": [
    {
     "name": "stdout",
     "output_type": "stream",
     "text": [
      "number is positive\n",
      "number is zero\n"
     ]
    }
   ],
   "source": [
    "#ex8\n",
    "def check(n):\n",
    " if n>0:\n",
    "    print('number is positive')\n",
    " if n<0:\n",
    "    p('number is negative')\n",
    " else:\n",
    "    print('number is zero')\n",
    " return\n",
    "\n",
    "check(11)"
   ]
  },
  {
   "cell_type": "code",
   "execution_count": 224,
   "id": "9c6ea7f7-29cb-46ae-950f-e513f5173905",
   "metadata": {},
   "outputs": [
    {
     "name": "stdout",
     "output_type": "stream",
     "text": [
      "1\n",
      "2\n",
      "3\n",
      "4\n",
      "5\n"
     ]
    }
   ],
   "source": [
    "#ex9\n",
    "numbers=[1,2,3,4,5,6,7,8]\n",
    "for i in numbers:\n",
    "    if i <6:\n",
    "        print(i)\n",
    "    "
   ]
  },
  {
   "cell_type": "code",
   "execution_count": 226,
   "id": "2e89a026-9f0e-42bd-a3c7-48e8adff1166",
   "metadata": {},
   "outputs": [
    {
     "name": "stdout",
     "output_type": "stream",
     "text": [
      "1\n",
      "2\n",
      "3\n",
      "4\n",
      "5\n"
     ]
    }
   ],
   "source": [
    "#ex10\n",
    "counter=0\n",
    "while counter<5:\n",
    "    counter+=1\n",
    "    print(counter)\n"
   ]
  },
  {
   "cell_type": "code",
   "execution_count": 1,
   "id": "440767f9-2037-4c11-bc05-4e7428ee7e58",
   "metadata": {},
   "outputs": [
    {
     "name": "stdin",
     "output_type": "stream",
     "text": [
      "Please insert your grade(A,B,C,D,F)  a\n"
     ]
    },
    {
     "name": "stdout",
     "output_type": "stream",
     "text": [
      "Excellent\n"
     ]
    }
   ],
   "source": [
    "#ex11\n",
    "grade=input('Please insert your grade(A,B,C,D,F) ').upper()\n",
    "match grade:\n",
    " case 'A':\n",
    "     print('Excellent')\n",
    " case 'B':\n",
    "     print('Good Job')\n",
    " case 'C':\n",
    "    print('Fair')\n",
    " case 'D':\n",
    "     print('Needs improvement')\n",
    " case 'F':\n",
    "     print('failed')\n",
    "   "
   ]
  },
  {
   "cell_type": "code",
   "execution_count": 21,
   "id": "49875fd0-fe43-434a-9639-bfef0e7ca48a",
   "metadata": {},
   "outputs": [
    {
     "name": "stdout",
     "output_type": "stream",
     "text": [
      "Hello , Julia !\n"
     ]
    }
   ],
   "source": [
    "#ex12\n",
    "\n",
    "def greet(name):\n",
    "    print(f'Hello , {name} !')\n",
    "    return\n",
    "\n",
    "greet('Julia')\n"
   ]
  },
  {
   "cell_type": "code",
   "execution_count": 37,
   "id": "ab3d736d-be62-40e4-b22c-fa6f187c37d2",
   "metadata": {},
   "outputs": [
    {
     "data": {
      "text/plain": [
       "16"
      ]
     },
     "execution_count": 37,
     "metadata": {},
     "output_type": "execute_result"
    }
   ],
   "source": [
    "#ex13\n",
    "\n",
    "def square(number):\n",
    "    return number**2\n",
    "\n",
    "square(4)\n",
    " "
   ]
  },
  {
   "cell_type": "code",
   "execution_count": 79,
   "id": "8e3acdaf-1d41-467d-b035-831223ddf6e0",
   "metadata": {},
   "outputs": [
    {
     "data": {
      "text/plain": [
       "7"
      ]
     },
     "execution_count": 79,
     "metadata": {},
     "output_type": "execute_result"
    }
   ],
   "source": [
    "#ex14\n",
    "\n",
    "def multiply(a,b=1):\n",
    "    return a*b\n",
    "\n",
    "multiply(7,)"
   ]
  },
  {
   "cell_type": "code",
   "execution_count": 125,
   "id": "c0527bf7-9cb9-484c-a5ae-8008ee8eb165",
   "metadata": {},
   "outputs": [
    {
     "data": {
      "text/plain": [
       "[1, 4, 9, 16, 25, 36, 49, 64, 81, 100]"
      ]
     },
     "execution_count": 125,
     "metadata": {},
     "output_type": "execute_result"
    }
   ],
   "source": [
    "#ex15\n",
    "list=[i for i in range(1,11)]\n",
    "list\n",
    "list_2= [i**2 for i in list]\n",
    "list_2"
   ]
  },
  {
   "cell_type": "code",
   "execution_count": 337,
   "id": "98164051-112b-4827-9bc2-417e9a0bf698",
   "metadata": {},
   "outputs": [
    {
     "data": {
      "text/plain": [
       "{'Zein': [92, 79, 80, 95],\n",
       " 'Ali': [80, 77, 64, 48],\n",
       " 'Sarah': [86, 55, 79, 85],\n",
       " 'Julia': [56, 89, 79, 57]}"
      ]
     },
     "execution_count": 337,
     "metadata": {},
     "output_type": "execute_result"
    }
   ],
   "source": [
    "#ex16\n",
    "student_dict={ 'Zein':[ 92,79,80,95] , 'Ali':[80,77,64,48] , 'Sarah':[86,55,79,85] , 'Julia':[56,89,79,57] }\n",
    "student_dict\n"
   ]
  },
  {
   "cell_type": "raw",
   "id": "34422700-5dc9-407b-ab9e-2626f6c1a4b5",
   "metadata": {},
   "source": []
  },
  {
   "cell_type": "code",
   "execution_count": 384,
   "id": "98ce6168-0ddb-45ab-8994-f85f8a054d26",
   "metadata": {},
   "outputs": [
    {
     "name": "stdout",
     "output_type": "stream",
     "text": [
      "average student grade  86.5\n",
      "average student grade  67.25\n",
      "average student grade  76.25\n",
      "average student grade  70.25\n"
     ]
    }
   ],
   "source": [
    "def print_average_grade(student):\n",
    "    for student,grades in student_dict.items(): \n",
    "        average_grade = sum(grades) / len(grades)\n",
    "        print(f'average student grade  {average_grade}')\n",
    "                \n",
    "print_average_grade(student_dict)\n"
   ]
  },
  {
   "cell_type": "code",
   "execution_count": 450,
   "id": "c38ecd1f-dcca-4050-9dd7-2167dc70aeb8",
   "metadata": {},
   "outputs": [],
   "source": [
    "#ex17\n",
    "a=float()\n",
    "b=float()\n",
    "c=''\n",
    "def calculate(a,b,c):\n",
    "    a=input(f\"please enter number\")\n",
    "    b=input(f\"please enter number\")\n",
    "    c=input(f\"please enter an operator(+,-,/,*)\")\n",
    "    if c== '+': \n",
    "        return  float(a)+int(b)\n",
    "    if c== '-': \n",
    "        return  float(a)-int(b)\n",
    "    if c == '/': \n",
    "        return  float(a)/float(b)\n",
    "    if c == '*': \n",
    "        return  float(a)*int(b)\n",
    "    result=calculate(a,b,c)\n",
    "    print(f' The result is : {result}')"
   ]
  },
  {
   "cell_type": "code",
   "execution_count": 452,
   "id": "a31b90fd-daa3-4130-b9ec-d2cf2253ea63",
   "metadata": {},
   "outputs": [
    {
     "name": "stdin",
     "output_type": "stream",
     "text": [
      "please enter number 10\n",
      "please enter number 20\n",
      "please enter an operator(+,-,/,*) +\n"
     ]
    },
    {
     "data": {
      "text/plain": [
       "30.0"
      ]
     },
     "execution_count": 452,
     "metadata": {},
     "output_type": "execute_result"
    }
   ],
   "source": [
    "calculate(a,b,c)"
   ]
  },
  {
   "cell_type": "code",
   "execution_count": null,
   "id": "20fcfa6d-97cf-4736-82fa-e09c198d9560",
   "metadata": {},
   "outputs": [],
   "source": []
  },
  {
   "cell_type": "code",
   "execution_count": null,
   "id": "89001ec9-a463-42a7-8d11-785ab7e4ea7a",
   "metadata": {},
   "outputs": [],
   "source": []
  },
  {
   "cell_type": "code",
   "execution_count": null,
   "id": "a28c1d5b-b18b-44c8-a8f7-dbc7af706dcc",
   "metadata": {},
   "outputs": [],
   "source": []
  },
  {
   "cell_type": "code",
   "execution_count": null,
   "id": "59ac11e3-59a9-49fb-acb2-21796292d915",
   "metadata": {},
   "outputs": [],
   "source": []
  }
 ],
 "metadata": {
  "kernelspec": {
   "display_name": "Python 3 (ipykernel)",
   "language": "python",
   "name": "python3"
  },
  "language_info": {
   "codemirror_mode": {
    "name": "ipython",
    "version": 3
   },
   "file_extension": ".py",
   "mimetype": "text/x-python",
   "name": "python",
   "nbconvert_exporter": "python",
   "pygments_lexer": "ipython3",
   "version": "3.12.4"
  }
 },
 "nbformat": 4,
 "nbformat_minor": 5
}
