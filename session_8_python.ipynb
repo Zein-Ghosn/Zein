{
 "cells": [
  {
   "cell_type": "markdown",
   "id": "78b03bc1",
   "metadata": {
    "slideshow": {
     "slide_type": "slide"
    }
   },
   "source": [
    "# Python for Data Science\n",
    "## Session 8\n",
    "### Plotting\n"
   ]
  },
  {
   "cell_type": "markdown",
   "id": "9daffe2f",
   "metadata": {
    "slideshow": {
     "slide_type": "skip"
    }
   },
   "source": [
    "---"
   ]
  },
  {
   "cell_type": "markdown",
   "id": "9e443fb0",
   "metadata": {
    "slideshow": {
     "slide_type": "slide"
    }
   },
   "source": [
    "## Outline\n",
    "\n",
    "\n",
    "1. Matplotlib and Seaborn  \n",
    "2. Plotting techniques and customization  \n",
    "    \n",
    "   "
   ]
  },
  {
   "cell_type": "markdown",
   "id": "85462b6e",
   "metadata": {
    "slideshow": {
     "slide_type": "slide"
    }
   },
   "source": [
    "## Plotting\n",
    "### Matplotlib and Seaborn\n",
    "\n",
    "**Matplotlib** is the most extended plotting tool in the Python community. While **Maptplotlib** can be call through **Pandas**, **Seaborn** offers a tight integration with **Pandas**.\n",
    "\n",
    "**Seaborn**, built on top of **Matplotlib**, can be seen as a **Matplotlib** with stereoids, where its main contribution is to simplify heavy tasks (complex to do them with just **Matplotlib**) and provide enhanced visualizations (cooler styles and color palettes). "
   ]
  },
  {
   "cell_type": "markdown",
   "id": "4f9711d6",
   "metadata": {
    "slideshow": {
     "slide_type": "slide"
    }
   },
   "source": [
    "## Plotting\n",
    "### Matplotlib\n",
    "\n",
    "Let's get familiar with the basics."
   ]
  },
  {
   "cell_type": "code",
   "execution_count": null,
   "id": "1de3cc3c",
   "metadata": {
    "slideshow": {
     "slide_type": "subslide"
    }
   },
   "outputs": [],
   "source": [
    "'''\n",
    "Matplotlib graphs your data in a Figure, wich can contain one or more Axes\n",
    "'''\n",
    "# Simple way of getting these objects is by calling subplots()\n",
    "fig, ax = plt.subplots()             \n",
    "# Then, we can use the ax object to plot whatever data we want into the Axes\n",
    "ax.plot([1, 2, 3, 4], [1, 2, 3, 4])  \n",
    "# Finally we call show() to visualize the figure. Note that if we don't call\n",
    "# it, when visualising the object in a Jupyter notebook it also shows the figure\n",
    "plt.show()                           "
   ]
  },
  {
   "cell_type": "code",
   "execution_count": null,
   "id": "34d5a132",
   "metadata": {
    "slideshow": {
     "slide_type": "subslide"
    }
   },
   "outputs": [],
   "source": [
    "'''\n",
    "We can also:\n",
    "'''\n",
    "# Only create the object figure with no Axes\n",
    "fig = plt.figure()       \n",
    "# Create a figure and a 1x2 grid of Axes,\n",
    "# we will access each Axes per index, e.g axs[0]\n",
    "fig, axs = plt.subplots(1, 2)  \n",
    "# We can also draw more complex ones using mosaic\n",
    "fig, axs = plt.subplot_mosaic([['left', 'right_top'],\n",
    "                               ['left', 'right_bottom']])"
   ]
  },
  {
   "cell_type": "markdown",
   "id": "9ced2a33",
   "metadata": {
    "slideshow": {
     "slide_type": "slide"
    }
   },
   "source": [
    "## Plotting\n",
    "### Matplotlib\n",
    "\n",
    "Below we show an overview of Figure's components:\n",
    "\n",
    "<img src='figure_overview.png'>"
   ]
  },
  {
   "cell_type": "markdown",
   "id": "c3f389b0",
   "metadata": {
    "slideshow": {
     "slide_type": "slide"
    }
   },
   "source": [
    "## Plotting\n",
    "### Matplotlib\n",
    "\n",
    "Let's show now some **Matplotlib** examples.."
   ]
  },
  {
   "cell_type": "code",
   "execution_count": null,
   "id": "8903f879",
   "metadata": {
    "slideshow": {
     "slide_type": "subslide"
    }
   },
   "outputs": [],
   "source": [
    "'''\n",
    "Or simply run plot() without calling figure() or\n",
    "subplots(), which makes things simpler.\n",
    "'''\n",
    "\n",
    "import numpy as np \n",
    "import matplotlib.pyplot as plt # Usual way of importing and renaming pyplot \n",
    "\n",
    "values = [np.random.randint(0, 100+1) for _ in range(10)]\n",
    "\n",
    "plt.plot(values) # plot() returns the Axes object, ax = plt.plot(values)\n",
    "plt.ylabel('Random values between 0 and 100')\n",
    "plt.show()"
   ]
  },
  {
   "cell_type": "code",
   "execution_count": null,
   "id": "7e6e0c4a",
   "metadata": {
    "slideshow": {
     "slide_type": "subslide"
    }
   },
   "outputs": [],
   "source": [
    "'''\n",
    "In the same way, we can provide for each x value the corresponding y value\n",
    "'''\n",
    "x = np.array([-4, -3, -2, -1, 0, 1, 2, 3, 4])\n",
    "square_value = lambda x: x**2\n",
    "y = square_value(x)\n",
    "\n",
    "plt.plot(x, y)\n",
    "plt.ylabel('Squared values')\n",
    "plt.show()"
   ]
  },
  {
   "cell_type": "code",
   "execution_count": null,
   "id": "b3b2cea3",
   "metadata": {
    "slideshow": {
     "slide_type": "subslide"
    }
   },
   "outputs": [],
   "source": [
    "'''\n",
    "Values when using plt.plot() are plotted as a continuous curve, \n",
    "we can also specify to just plot points (using markers).\n",
    "In the following link there are all the markers available in Matplotlib:\n",
    "https://matplotlib.org/stable/api/markers_api.html\n",
    "'''\n",
    "\n",
    "def random_values(num):\n",
    "    return [np.random.randint(1,40+1) for _ in range(num)]\n",
    "\n",
    "# the first characted refers to the color, second to the symbol\n",
    "plt.plot(random_values(5), 'ro') # red, 'o' circle\n",
    "plt.plot(random_values(8), 'c+') # cean, '+' cross\n",
    "plt.plot(random_values(4), 'ys') # yellow, 's' square\n",
    "plt.plot(random_values(4), 'g*') # green, '*' star\n",
    "plt.show()"
   ]
  },
  {
   "cell_type": "code",
   "execution_count": null,
   "id": "6a3cf025",
   "metadata": {
    "slideshow": {
     "slide_type": "subslide"
    }
   },
   "outputs": [],
   "source": [
    "'''\n",
    "Another thing you can do is to specify the axis ranges \n",
    "'''\n",
    "x = [3, 4, 5, 6]\n",
    "y = [10, 12, 16, 18]\n",
    "plt.plot(x, y, 'ro')\n",
    "plt.axis((2, 7, 9, 20)) # (xmin, xmax, ymin, ymax)\n",
    "plt.show()"
   ]
  },
  {
   "cell_type": "code",
   "execution_count": null,
   "id": "a24f57b3",
   "metadata": {
    "slideshow": {
     "slide_type": "subslide"
    }
   },
   "outputs": [],
   "source": [
    "'''\n",
    "Or simply removing the axis, preatty usuful for images\n",
    "'''\n",
    "x = [3, 4, 5, 6]\n",
    "y = [10, 12, 16, 18]\n",
    "plt.plot(x, y, '*c')\n",
    "plt.axis('off')\n",
    "plt.show()"
   ]
  },
  {
   "cell_type": "code",
   "execution_count": null,
   "id": "843d7d48",
   "metadata": {
    "slideshow": {
     "slide_type": "subslide"
    }
   },
   "outputs": [],
   "source": [
    "'''\n",
    "We can also plot multiple funtions over the same interval\n",
    "'''\n",
    "\n",
    "# evenly sampled values between 0 and 5, where the step is 0.2\n",
    "t = np.arange(0, 5, 0.2)\n",
    "\n",
    "# red dashes, blue squares and green triangles\n",
    "plt.plot(t, t, 'b--', t, np.pow(t,2), 'ys', t, np.pow(t,3), 'g^', t, np.exp(t), 'r^')\n",
    "plt.show()"
   ]
  },
  {
   "cell_type": "code",
   "execution_count": null,
   "id": "1393f027",
   "metadata": {
    "slideshow": {
     "slide_type": "subslide"
    }
   },
   "outputs": [],
   "source": [
    "'''\n",
    "Let's see now how to work with a data frame or structure data\n",
    "'''\n",
    "import pandas as pd\n",
    "data = {'x': np.arange(20),\n",
    "        'y': np.random.randint(0, 50, 20), # random integers between 0 and 50\n",
    "        'c': np.random.randint(0, 50, 20), # random integers for the color\n",
    "        'd': np.random.randint(0, 200+1, 20) # random integers for the size\n",
    "       }\n",
    "\n",
    "df = pd.DataFrame(data)\n",
    "print(df)\n",
    "\n",
    "# plt.scatter('x', 'y', c='c', s='d', data=data)\n",
    "plt.scatter('x', 'y', c='c', s='d', data=df)\n",
    "plt.xlabel('x values')\n",
    "plt.ylabel('y values')\n",
    "plt.show()"
   ]
  },
  {
   "cell_type": "code",
   "execution_count": null,
   "id": "4122996d",
   "metadata": {
    "slideshow": {
     "slide_type": "subslide"
    }
   },
   "outputs": [],
   "source": [
    "'''\n",
    "Another cool tool and pretty useful when plotting multiple plots together is subplot\n",
    "'''\n",
    "\n",
    "x = np.arange(5)\n",
    "plt.subplot(141) # equivalent to plt.subplot(1, 4, 1) -> (number_of_rows, number_of_cols, index)\n",
    "plt.plot(x, x, '*c')\n",
    "\n",
    "plt.subplot(142) # equivalent to plt.subplot(1, 4, 2)\n",
    "plt.plot(x, np.pow(x, 2), 'r--') # we can create a discontinous line with --\n",
    "\n",
    "plt.subplot(143) # equivalent to plt.subplot(1, 4, 3)\n",
    "plt.plot(x, np.pow(x, 2), 'y*') # we can create a discontinous line with --\n",
    "\n",
    "plt.subplot(144) # equivalent to plt.subplot(1, 4, 4)\n",
    "plt.plot(x, np.pow(x, 2), 'bx') # we can create a discontinous line with --\n",
    "plt.show()"
   ]
  },
  {
   "cell_type": "code",
   "execution_count": null,
   "id": "2986241c",
   "metadata": {
    "slideshow": {
     "slide_type": "subslide"
    }
   },
   "outputs": [],
   "source": [
    "'''\n",
    "By calling figure() we can enumerate figures and intercalate them. \n",
    "'''\n",
    "\n",
    "plt.figure(1) # (15,3) First argument allow as to enumerate them plt.figure(1)\n",
    "plt.suptitle('Figure 1')\n",
    "x = np.arange(5)\n",
    "plt.subplot(121) # equivalent to plt.subplot(1, 4, 1) -> (number_of_rows, number_of_cols, index)\n",
    "plt.plot(x, x, '*c')\n",
    "\n",
    "plt.figure(2)\n",
    "plt.suptitle('Figure 2')\n",
    "plt.plot(x, np.pow(x, 2), 'y*') # we can create a discontinous line with --\n",
    "\n",
    "plt.figure(1)\n",
    "plt.subplot(122) # equivalent to plt.subplot(1, 4, 2)\n",
    "plt.plot(x, np.pow(x, 2), 'r--') # we can create a discontinous line with --\n",
    "\n",
    "plt.show()"
   ]
  },
  {
   "cell_type": "code",
   "execution_count": null,
   "id": "cfbe76fe",
   "metadata": {
    "slideshow": {
     "slide_type": "subslide"
    }
   },
   "outputs": [],
   "source": [
    "'''\n",
    "Among its features, plt.figure() also allows to set the size up\n",
    "'''\n",
    "\n",
    "plt.figure(1, figsize=(3,3)) # (15,3) First argument allow as to enumerate them plt.figure(1)\n",
    "x = np.arange(5)\n",
    "plt.subplot(141) # equivalent to plt.subplot(1, 4, 1) -> (number_of_rows, number_of_cols, index)\n",
    "plt.plot(x, x, '*c')\n",
    "\n",
    "plt.subplot(142) # equivalent to plt.subplot(1, 4, 2)\n",
    "plt.plot(x, np.pow(x, 2), 'r--') # we can create a discontinous line with --\n",
    "\n",
    "plt.subplot(143) # equivalent to plt.subplot(1, 4, 3)\n",
    "plt.plot(x, np.pow(x, 2), 'y*') # we can create a discontinous line with --\n",
    "\n",
    "plt.subplot(144) # equivalent to plt.subplot(1, 4, 4)\n",
    "plt.plot(x, np.pow(x, 2), 'bx') # we can create a discontinous line with --\n",
    "plt.show()"
   ]
  },
  {
   "cell_type": "code",
   "execution_count": null,
   "id": "c2834c9d",
   "metadata": {
    "slideshow": {
     "slide_type": "subslide"
    }
   },
   "outputs": [],
   "source": [
    "'''\n",
    "Same way, we could have used title\n",
    "'''\n",
    "\n",
    "plt.figure(figsize=(15,3)) \n",
    "plt.title('Four plots together') \n",
    "#plt.axis('off') # Or alternatively use plt.suptitle('Four plots together')\n",
    "\n",
    "x = np.arange(5)\n",
    "plt.subplot(141) # equivalent to plt.subplot(1, 4, 1) -> (number_of_rows, number_of_cols, index)\n",
    "plt.plot(x, x, '*c')\n",
    "\n",
    "plt.subplot(142) # equivalent to plt.subplot(1, 4, 2)\n",
    "plt.plot(x, np.pow(x, 2), 'r--') # we can create a discontinous line with --\n",
    "\n",
    "plt.subplot(143) # equivalent to plt.subplot(1, 4, 3)\n",
    "plt.plot(x, np.pow(x, 3), 'y*') # we can create a discontinous line with --\n",
    "\n",
    "plt.subplot(144) # equivalent to plt.subplot(1, 4, 4)\n",
    "plt.plot(x, np.pow(x, 4), 'bx') # we can create a discontinous line with --\n",
    "#plt.suptitle('Four plots together')\n",
    "plt.show()"
   ]
  },
  {
   "cell_type": "code",
   "execution_count": null,
   "id": "97256aab",
   "metadata": {
    "scrolled": true,
    "slideshow": {
     "slide_type": "subslide"
    }
   },
   "outputs": [],
   "source": [
    "'''\n",
    "Or titles for each subplot\n",
    "'''\n",
    "\n",
    "plt.figure(figsize=(15,3)) \n",
    "x = np.arange(5)\n",
    "plt.subplot(141) # equivalent to plt.subplot(1, 4, 1) -> (number_of_rows, number_of_cols, index)\n",
    "plt.title('Plot #1')\n",
    "plt.plot(x, x, '*c')\n",
    "\n",
    "plt.subplot(142) # equivalent to plt.subplot(1, 4, 2)\n",
    "plt.title('Plot #2')\n",
    "plt.plot(x, np.pow(x, 2), 'r--') # we can create a discontinous line with --\n",
    "\n",
    "plt.subplot(143) # equivalent to plt.subplot(1, 4, 3)\n",
    "plt.title('Plot #3')\n",
    "plt.plot(x, np.pow(x, 3), 'y*') # we can create a discontinous line with --\n",
    "\n",
    "plt.subplot(144) # equivalent to plt.subplot(1, 4, 4)\n",
    "plt.title('Plot #4')\n",
    "plt.plot(x, np.pow(x, 4), 'bx') # we can create a discontinous line with --\n",
    "plt.show()"
   ]
  },
  {
   "cell_type": "code",
   "execution_count": null,
   "id": "2720eac4",
   "metadata": {
    "slideshow": {
     "slide_type": "subslide"
    }
   },
   "outputs": [],
   "source": [
    "'''\n",
    "Going back to how we plot lines, we can control pretty much everything,\n",
    "https://matplotlib.org/stable/api/_as_gen/matplotlib.lines.Line2D.html#matplotlib.lines.Line2D\n",
    "'''\n",
    "\n",
    "values = np.arange(10)\n",
    "plt.figure(figsize=(15,3))\n",
    "plt.subplot(121)\n",
    "plt.plot(values, linewidth=4.0)\n",
    "plt.subplot(122)\n",
    "plt.plot(values, linewidth=0.5)\n",
    "plt.grid('on') # Another feature we can enable!\n",
    "plt.show()"
   ]
  },
  {
   "cell_type": "code",
   "execution_count": null,
   "id": "8114abb7",
   "metadata": {
    "slideshow": {
     "slide_type": "subslide"
    }
   },
   "outputs": [],
   "source": [
    "'''\n",
    "We can also usse setp to setting up the properties\n",
    "'''\n",
    "\n",
    "x = np.arange(10)\n",
    "y = np.sin(x)\n",
    "\n",
    "lines = plt.plot(x, y)\n",
    "plt.setp(lines, color='r', linewidth=2.0)\n",
    "# equivalent to: \n",
    "plt.setp(lines, 'color', 'r', 'linewidth', 2.0) # Matlab style\n",
    "plt.show()"
   ]
  },
  {
   "cell_type": "code",
   "execution_count": null,
   "id": "9fcd861f",
   "metadata": {
    "slideshow": {
     "slide_type": "subslide"
    }
   },
   "outputs": [],
   "source": [
    "'''\n",
    "Let's see now how to plot bars, pretty useful in many use cases\n",
    "'''\n",
    "\n",
    "plt.subplot(121)\n",
    "plt.bar([10, 23, 27, 31], height=[30, 40, 50, 60])\n",
    "plt.subplot(122)\n",
    "plt.bar()\n",
    "plt.show()"
   ]
  },
  {
   "cell_type": "code",
   "execution_count": null,
   "id": "21956668",
   "metadata": {
    "slideshow": {
     "slide_type": "subslide"
    }
   },
   "outputs": [],
   "source": [
    "'''\n",
    "We also can set up a categorical labels, in any of the cases we saw so far (lines, scatter points).\n",
    "Let's see with bars and lines\n",
    "'''\n",
    "\n",
    "groups = ['UOC', 'UAB', 'UPC', 'ESADE']\n",
    "plt.figure(figsize=(15,3))\n",
    "plt.subplot(121)\n",
    "plt.bar(groups, height=[30, 40, 50, 60])\n",
    "plt.subplot(122)\n",
    "plt.plot(groups, [30, 40, 50, 60], 'co', markersize=10)\n",
    "plt.show()"
   ]
  },
  {
   "cell_type": "code",
   "execution_count": null,
   "id": "2b4a490a",
   "metadata": {
    "slideshow": {
     "slide_type": "subslide"
    }
   },
   "outputs": [],
   "source": [
    "'''\n",
    "What about specifying what values we want to see on the y-axis? And the bar width?\n",
    "'''\n",
    "\n",
    "groups = ['UOC', 'UAB', 'UPC', 'ESADE']\n",
    "plt.figure(figsize=(15,3))\n",
    "plt.bar(groups, height=[30, 40, 50, 60], width=[0.2, 0.1, 0.1, 0.5])\n",
    "plt.yticks([15, 30, 40, 50, 60]) # it does also work with lines and scatter points\n",
    "plt.show()"
   ]
  },
  {
   "cell_type": "code",
   "execution_count": null,
   "id": "edc00076",
   "metadata": {
    "slideshow": {
     "slide_type": "subslide"
    }
   },
   "outputs": [],
   "source": [
    "'''\n",
    "But let's don't stop here, let's change the color\n",
    "'''\n",
    "bar_colors = ['tab:cyan', 'tab:red', 'tab:green', 'tab:blue']\n",
    "        \n",
    "groups = ['UOC', 'UAB', 'UPC', 'ESADE']\n",
    "plt.figure(figsize=(15,3))\n",
    "plt.bar(groups, height=[30, 40, 50, 60], width=[0.2, 0.1, 0.1, 0.5], color=bar_colors)\n",
    "plt.yticks([15, 30, 40, 50, 60]) # it does also work with lines and scatter points\n",
    "plt.show()"
   ]
  },
  {
   "cell_type": "code",
   "execution_count": null,
   "id": "665a3c9d",
   "metadata": {
    "slideshow": {
     "slide_type": "subslide"
    }
   },
   "outputs": [],
   "source": [
    "'''\n",
    "Let's add a legend now!\n",
    "'''\n",
    "bar_colors = ['tab:cyan', 'tab:red', 'tab:green', 'tab:blue']\n",
    "        \n",
    "groups = ['UOC', 'UAB', 'UPC', 'ESADE']\n",
    "plt.figure(figsize=(15,3))\n",
    "plt.bar(groups, height=[30, 40, 50, 60], width=[0.2, 0.1, 0.1, 0.5], \n",
    "        color=bar_colors, \n",
    "        label=['UOC', 'UAB', 'UPC', 'ESADE'], # LEGEND, we need to pass labels !!\n",
    "        alpha=0.5 # A new propertie! transparency\n",
    "       )\n",
    "plt.yticks([15, 30, 40, 50, 60]) # it does also work with lines and scatter points\n",
    "plt.legend(title='University values')\n",
    "plt.show()"
   ]
  },
  {
   "cell_type": "code",
   "execution_count": null,
   "id": "ca6e6344",
   "metadata": {
    "slideshow": {
     "slide_type": "subslide"
    }
   },
   "outputs": [],
   "source": [
    "'''\n",
    "Let's to move it, by specifying its location:\n",
    "'upper right' (default), 'upper left', 'lower left', \n",
    "'lower right', 'center right', 'center left', 'center', \n",
    "'upper center', 'lower center'\n",
    "'''\n",
    "bar_colors = ['tab:cyan', 'tab:red', 'tab:green', 'tab:blue']\n",
    "        \n",
    "groups = ['UOC', 'UAB', 'UPC', 'ESADE']\n",
    "plt.figure(figsize=(15,3))\n",
    "plt.bar(groups, height=[30, 40, 50, 60], width=[0.2, 0.1, 0.1, 0.5], \n",
    "        color=bar_colors, \n",
    "        label=['UOC', 'UAB', 'UPC', 'ESADE'],\n",
    "        alpha=0.5\n",
    "       )\n",
    "plt.yticks([15, 30, 40, 50, 60])\n",
    "# modifying properties like fontsize and frameon\n",
    "plt.legend(title='University values', loc='upper center', \n",
    "           fontsize=5, \n",
    "           frameon=False,\n",
    "           ncol=2 # pretty useful in some cases\n",
    "          )\n",
    "plt.show()"
   ]
  },
  {
   "cell_type": "code",
   "execution_count": null,
   "id": "b1444bf8",
   "metadata": {
    "slideshow": {
     "slide_type": "subslide"
    }
   },
   "outputs": [],
   "source": [
    "'''\n",
    "What about adding some text in the plot? and get some info from the bars in the process...\n",
    "'''\n",
    "bar_colors = ['tab:cyan', 'tab:red', 'tab:green', 'tab:blue']\n",
    "        \n",
    "groups = ['UOC', 'UAB', 'UPC', 'ESADE']\n",
    "plt.figure(figsize=(15,3))\n",
    "bars = plt.bar(groups, height=[30, 40, 50, 60], width=[0.2, 0.1, 0.1, 0.5], \n",
    "        color=bar_colors, \n",
    "        label=['UOC', 'UAB', 'UPC', 'ESADE'],\n",
    "        alpha=0.5\n",
    "       )\n",
    "plt.yticks([15, 30, 40, 50, 60])\n",
    "plt.legend(title='University values', loc='upper center', \n",
    "           fontsize=5, \n",
    "           frameon=False,\n",
    "           ncol=2 # pretty useful in some cases\n",
    "          )\n",
    "# outside the plot\n",
    "plt.text(0, 65, \"Bar heights represent university values\", fontsize=10, color='gray')\n",
    "\n",
    "bar = bars[3] # esade bar\n",
    "# Center of the bar\n",
    "x = bar.get_x() + bar.get_width() / 2 \n",
    "height = bar.get_height()\n",
    "plt.text(x, height + 2, f\"({x:.2f}, {height})\", ha='center', fontsize=8, color='black')\n",
    "#plt.ylim(0, 70)\n",
    "plt.show()"
   ]
  },
  {
   "cell_type": "code",
   "execution_count": null,
   "id": "15da791c",
   "metadata": {
    "scrolled": true,
    "slideshow": {
     "slide_type": "subslide"
    }
   },
   "outputs": [],
   "source": [
    "'''\n",
    "We can also use the annotation method, plt.annotation(), and use LaTeX syntax to write formulas\n",
    "'''\n",
    "bar_colors = ['tab:cyan', 'tab:red', 'tab:green', 'tab:blue']\n",
    "        \n",
    "groups = ['UOC', 'UAB', 'UPC', 'ESADE']\n",
    "plt.figure(figsize=(15,3))\n",
    "bars = plt.bar(groups, height=[30, 40, 50, 60], width=[0.2, 0.1, 0.1, 0.5], \n",
    "        color=bar_colors, \n",
    "        label=['UOC', 'UAB', 'UPC', 'ESADE'],\n",
    "        alpha=0.5\n",
    "       )\n",
    "\n",
    "bar = bars[1] # uab bar\n",
    "# Center of the bar\n",
    "x = bar.get_x() + bar.get_width() / 2 \n",
    "# Annotation !\n",
    "txt = 'This is the UAB top'\n",
    "# txt = r'$e^{i\\pi} + 1 = 0$' # We can also use latex syntax to add formulas!\n",
    "plt.annotate(txt, xy=(x, 40), xytext=(x-1, 50),\n",
    "             arrowprops=dict(facecolor='black', shrink=0.05),\n",
    "             )\n",
    "\n",
    "plt.legend(title='University values')\n",
    "plt.show()"
   ]
  },
  {
   "cell_type": "code",
   "execution_count": null,
   "id": "99ca0467",
   "metadata": {},
   "outputs": [],
   "source": [
    "'''\n",
    "Depending on the importance or how we want the data to look like, we can modify the axis,\n",
    "by simply specifying the scale, e.g. log, symlog, logit. \n",
    "\n",
    "We can also rename the values on the axis with xticks and yticks...\n",
    "'''\n",
    "\n",
    "plt.bar([10, 23, 27, 31], height=[30, 40, 50, 60])\n",
    "plt.yscale('log') # symlog, logit\n",
    "# plt.yticks([30, 40, 50, 60], labels=[30, 40, 50, 60]) \n",
    "plt.show()"
   ]
  },
  {
   "cell_type": "markdown",
   "id": "b2dc9eca",
   "metadata": {
    "slideshow": {
     "slide_type": "slide"
    }
   },
   "source": [
    "## Plotting\n",
    "### Matplotlib exercises\n",
    "\n",
    "Let's do some plotting:\n",
    "\n",
    "- Find out the amount of students of the top 5 universities in Executive Education (2024). Use \"Executive Education 2024\" published by Financial Times. Plot the results in a figure that includes title, xlabel, ylabel and legend, and try to use the university color for each of one. If you don't find the exact results, just use a close one."
   ]
  },
  {
   "cell_type": "markdown",
   "id": "8c4d5f0d",
   "metadata": {
    "slideshow": {
     "slide_type": "slide"
    }
   },
   "source": [
    "## Plotting\n",
    "### Matplotlib\n",
    "\n",
    "Let's continue with another plotting scheme pretty useful, histograms, plt.hist(), and also calling plot from a **Pandas** data frame."
   ]
  },
  {
   "cell_type": "code",
   "execution_count": null,
   "id": "2d47d928",
   "metadata": {
    "slideshow": {
     "slide_type": "subslide"
    }
   },
   "outputs": [],
   "source": [
    "import pandas as pd\n",
    "\n",
    "np.random.seed(123)\n",
    "\n",
    "# Expanded sample data: University name, country, and number of students\n",
    "data = {\n",
    "    'University': ['UOC', 'UAB', 'UPC', 'ESADE', 'UOC', 'UAB', 'UPC', 'ESADE', 'UOC', 'UAB', 'UPC', 'ESADE', 'UOC', 'UAB', 'UPC', 'ESADE',\n",
    "                   'UOC', 'UAB', 'UPC', 'ESADE', 'UOC', 'UAB', 'UPC', 'ESADE', 'UOC', 'UAB', 'UPC', 'ESADE', 'UOC', 'UAB', 'UPC', 'ESADE',\n",
    "                   'UOC', 'UAB', 'UPC', 'ESADE', 'UOC', 'UAB', 'UPC', 'ESADE', 'UOC', 'UAB', 'UPC', 'ESADE', 'UOC', 'UAB', 'UPC', 'ESADE',\n",
    "                   'UOC', 'UAB', 'UPC', 'ESADE'],\n",
    "    'Country': ['Spain', 'Spain', 'Spain', 'Spain', 'Italy', 'Italy', 'Italy', 'Italy', 'France', 'France', 'France', 'France', 'USA', 'USA', 'USA', 'USA',\n",
    "                'England', 'England', 'England', 'England', 'Ireland', 'Ireland', 'Ireland', 'Ireland', 'Germany', 'Germany', 'Germany', 'Germany',\n",
    "                'Greece', 'Greece', 'Greece', 'Greece', 'Turkey', 'Turkey', 'Turkey', 'Turkey', 'Egypt', 'Egypt', 'Egypt', 'Egypt', 'India', 'India',\n",
    "                'India', 'India', 'China', 'China', 'China', 'China', 'Japan', 'Japan', 'Japan', 'Japan'],\n",
    "    'Number of Students': np.random.randint(1500, 10000, 52)\n",
    "}\n",
    "\n",
    "# Create the DataFrame\n",
    "df = pd.DataFrame(data)\n",
    "df.head(5)"
   ]
  },
  {
   "cell_type": "code",
   "execution_count": null,
   "id": "c3b515da",
   "metadata": {
    "slideshow": {
     "slide_type": "subslide"
    }
   },
   "outputs": [],
   "source": [
    "'''\n",
    "Let's create a first histogram using all the number of students \n",
    "'''\n",
    "plt.hist(df['Number of Students'], bins=10, color='lightblue', edgecolor='blue')\n",
    "\n",
    "# Add labels and title\n",
    "plt.xlabel('Number of Students')\n",
    "plt.ylabel('Frequency')\n",
    "plt.title('Histogram of University Student Numbers (All Countries)')\n",
    "\n",
    "# Show the plot\n",
    "plt.show()"
   ]
  },
  {
   "cell_type": "code",
   "execution_count": null,
   "id": "c88b9511",
   "metadata": {
    "slideshow": {
     "slide_type": "subslide"
    }
   },
   "outputs": [],
   "source": [
    "'''\n",
    "Let's create a first histogram with all the number of students per country\n",
    "'''\n",
    "\n",
    "# Get an histogram per country\n",
    "countries = df['Country'].unique()\n",
    "for country in countries:\n",
    "    country_data = df[df['Country'] == country]['Number of Students']\n",
    "    plt.hist(country_data, bins=12, width=50, alpha=0.5, label=country)\n",
    "\n",
    "plt.yticks(np.arange(10))\n",
    "plt.legend(loc='upper left')\n",
    "plt.show()"
   ]
  },
  {
   "cell_type": "code",
   "execution_count": null,
   "id": "c7b63377",
   "metadata": {
    "slideshow": {
     "slide_type": "subslide"
    }
   },
   "outputs": [],
   "source": [
    "'''\n",
    "Can we use plot from Pandas at this point?\n",
    "'''\n",
    "# without considering the university:\n",
    "df[['Country', 'Number of Students']].groupby('Country').agg('sum').plot(linestyle='', \n",
    "                                                                         marker='*', \n",
    "                                                                         ylabel='Total number of students')"
   ]
  },
  {
   "cell_type": "code",
   "execution_count": null,
   "id": "e46fc37f",
   "metadata": {
    "slideshow": {
     "slide_type": "subslide"
    }
   },
   "outputs": [],
   "source": [
    "'''\n",
    "What about bars?\n",
    "'''\n",
    "# Define 13 unique colors\n",
    "bar_colors = ['tab:blue', 'tab:orange', 'tab:green', 'tab:red', 'tab:purple', \n",
    "          'tab:brown', 'tab:pink', 'tab:gray', 'tab:olive', 'tab:cyan',\n",
    "          'tab:blue', 'tab:orange', 'tab:green'] \n",
    "\n",
    "# without considering the university:\n",
    "df[['Country', 'Number of Students']].groupby('Country').agg('sum').plot(kind='bar',\n",
    "                                                                         color=bar_colors,\n",
    "                                                                         ylabel='Total number of students')"
   ]
  },
  {
   "cell_type": "markdown",
   "id": "74c26a65",
   "metadata": {
    "slideshow": {
     "slide_type": "subslide"
    }
   },
   "source": [
    "## Plotting\n",
    "### Matplotlib\n",
    "\n",
    "Although useful to being able to call Matplotlib from a dataframe, it can be sometimes trickier to plot stuff, and we finally go back to work with **Matplotlib** as you can see: "
   ]
  },
  {
   "cell_type": "code",
   "execution_count": null,
   "id": "9d4baf69",
   "metadata": {
    "slideshow": {
     "slide_type": "subslide"
    }
   },
   "outputs": [],
   "source": [
    "df = pd.DataFrame(data)\n",
    "\n",
    "totals = df[['Country', 'Number of Students']].groupby('Country').sum()\n",
    "\n",
    "# colors\n",
    "bar_colors = ['tab:blue', 'tab:orange', 'tab:green', 'tab:red', 'tab:purple', \n",
    "          'tab:brown', 'tab:pink', 'tab:gray', 'tab:olive', 'tab:cyan',\n",
    "          'tab:blue', 'tab:orange', 'tab:green'] \n",
    "\n",
    "# we didn't mention it earlier, but by calling plot() it returns the Axes\n",
    "ax = totals.plot(\n",
    "    kind='bar',\n",
    "    color=bar_colors,\n",
    "    legend=False,\n",
    "    ylabel='Total number of students'\n",
    ")\n",
    "\n",
    "for i, bar in enumerate(ax.patches):\n",
    "    bar.set_facecolor(bar_colors[i])  \n",
    "\n",
    "plt.show()"
   ]
  },
  {
   "cell_type": "markdown",
   "id": "622a91d3",
   "metadata": {
    "slideshow": {
     "slide_type": "slide"
    }
   },
   "source": [
    "## Plotting\n",
    "### Matplotlib\n",
    "\n",
    "**Jupyter notebooks** include *%matplotlib* magic commands. In this case:\n",
    "\n",
    "- %matplotlib inline | it renders Matplotlib plots directly in the notebook as static images.\n",
    "- %matplotlib notebook | it allows you to interact with your plots, e.g. resizing, zooming, etc."
   ]
  },
  {
   "cell_type": "code",
   "execution_count": null,
   "id": "a6a9a8c5",
   "metadata": {
    "slideshow": {
     "slide_type": "subslide"
    }
   },
   "outputs": [],
   "source": [
    "%matplotlib notebook # inline\n",
    "import matplotlib.pyplot as plt\n",
    "\n",
    "fig, ax = plt.subplots()\n",
    "ax.plot([1, 2, 3, 4], [1, 2, 3, 4])"
   ]
  },
  {
   "cell_type": "markdown",
   "id": "00fb4763",
   "metadata": {
    "slideshow": {
     "slide_type": "slide"
    }
   },
   "source": [
    "## Plotting\n",
    "### Seaborn\n",
    "\n",
    "Similar to what we did with Matplotlib, we will be able to interact using FacetGrids or directly calling axes-level functions from Seaborn. From the figure-level functions, we will be able to call the axes-level functions with more options to manipulate the Figure. \n",
    "\n",
    "We will call axes-level functions via *kind* when using figure-level ones. Let's create a new data frame."
   ]
  },
  {
   "cell_type": "code",
   "execution_count": null,
   "id": "d787088d",
   "metadata": {
    "slideshow": {
     "slide_type": "subslide"
    }
   },
   "outputs": [],
   "source": [
    "'''\n",
    "Let's get back to one of our previous examples, and this time based on the size use a colormap.\n",
    "'''\n",
    "import pandas as pd\n",
    "data = {'x': np.arange(20),\n",
    "        'y': np.random.randint(0, 50, 20), # random integers between 0 and 50\n",
    "        'c': np.random.randint(0, 50, 20), # random integers for the color\n",
    "       }\n",
    "\n",
    "# This time the color will change depending on the size\n",
    "data['d'] = data['c'] * 10\n",
    "\n",
    "df = pd.DataFrame(data)\n",
    "\n",
    "scatter = plt.scatter('x', 'y', c='c', s='d', data=data, cmap='RdBu_r') # 'magma', 'plasma' + '_r' for reverse\n",
    "plt.xlabel('x values')\n",
    "plt.ylabel('y values')\n",
    "# Here we show the color bar\n",
    "plt.colorbar(scatter, label='Color scale (c)')\n",
    "plt.show()\n"
   ]
  },
  {
   "cell_type": "markdown",
   "id": "39947438",
   "metadata": {
    "slideshow": {
     "slide_type": "slide"
    }
   },
   "source": [
    "## Plotting\n",
    "### Seaborn\n",
    "\n",
    "Let's start working with **Seaborn**. It divides functions into three different modules:\n",
    "- relplot, to handle relational data\n",
    "- catplot, to handle categorical data\n",
    "- displot, to handle distributional data\n",
    "\n",
    "All these figure-level functions return a **FacetGrid** Seaborn object, while the axes-level ones, e.g. histplot, return an **Axes**.\n",
    "\n",
    "<img width=500px; src='function_overview_8_0.png'>"
   ]
  },
  {
   "cell_type": "markdown",
   "id": "0375ba79",
   "metadata": {
    "slideshow": {
     "slide_type": "subslide"
    }
   },
   "source": [
    "## Plotting\n",
    "### Seaborn\n",
    "\n",
    "Similar to what we did with Matplotlib, we will be able to interact using FacetGrids or directly calling axes-level functions from Seaborn. From the figure-level functions, we will be able to call the axes-level functions with more options to manipulate the Figure. \n",
    "\n",
    "We will call axes-level functions via *kind* when using figure-level ones. Let's create a new data frame."
   ]
  },
  {
   "cell_type": "code",
   "execution_count": 4,
   "id": "e03c88de",
   "metadata": {
    "slideshow": {
     "slide_type": "subslide"
    }
   },
   "outputs": [
    {
     "data": {
      "text/html": [
       "<div>\n",
       "<style scoped>\n",
       "    .dataframe tbody tr th:only-of-type {\n",
       "        vertical-align: middle;\n",
       "    }\n",
       "\n",
       "    .dataframe tbody tr th {\n",
       "        vertical-align: top;\n",
       "    }\n",
       "\n",
       "    .dataframe thead th {\n",
       "        text-align: right;\n",
       "    }\n",
       "</style>\n",
       "<table border=\"1\" class=\"dataframe\">\n",
       "  <thead>\n",
       "    <tr style=\"text-align: right;\">\n",
       "      <th></th>\n",
       "      <th>Student Name</th>\n",
       "      <th>Course</th>\n",
       "      <th>Grade</th>\n",
       "      <th>Gender</th>\n",
       "      <th>Study Time</th>\n",
       "      <th>Age</th>\n",
       "    </tr>\n",
       "  </thead>\n",
       "  <tbody>\n",
       "    <tr>\n",
       "      <th>0</th>\n",
       "      <td>Amelie</td>\n",
       "      <td>Artificial Intelligence</td>\n",
       "      <td>85</td>\n",
       "      <td>Female</td>\n",
       "      <td>15</td>\n",
       "      <td>22</td>\n",
       "    </tr>\n",
       "    <tr>\n",
       "      <th>1</th>\n",
       "      <td>Edgar</td>\n",
       "      <td>Python for Data Science</td>\n",
       "      <td>92</td>\n",
       "      <td>Male</td>\n",
       "      <td>20</td>\n",
       "      <td>21</td>\n",
       "    </tr>\n",
       "    <tr>\n",
       "      <th>2</th>\n",
       "      <td>Jordi</td>\n",
       "      <td>Cloud Computing</td>\n",
       "      <td>78</td>\n",
       "      <td>Male</td>\n",
       "      <td>10</td>\n",
       "      <td>23</td>\n",
       "    </tr>\n",
       "    <tr>\n",
       "      <th>3</th>\n",
       "      <td>Marçal</td>\n",
       "      <td>Computer Vision</td>\n",
       "      <td>88</td>\n",
       "      <td>Male</td>\n",
       "      <td>8</td>\n",
       "      <td>22</td>\n",
       "    </tr>\n",
       "    <tr>\n",
       "      <th>4</th>\n",
       "      <td>Pep</td>\n",
       "      <td>Artificial Intelligence</td>\n",
       "      <td>91</td>\n",
       "      <td>Male</td>\n",
       "      <td>18</td>\n",
       "      <td>20</td>\n",
       "    </tr>\n",
       "  </tbody>\n",
       "</table>\n",
       "</div>"
      ],
      "text/plain": [
       "  Student Name                   Course  Grade  Gender  Study Time  Age\n",
       "0       Amelie  Artificial Intelligence     85  Female          15   22\n",
       "1        Edgar  Python for Data Science     92    Male          20   21\n",
       "2        Jordi          Cloud Computing     78    Male          10   23\n",
       "3       Marçal          Computer Vision     88    Male           8   22\n",
       "4          Pep  Artificial Intelligence     91    Male          18   20"
      ]
     },
     "execution_count": 4,
     "metadata": {},
     "output_type": "execute_result"
    }
   ],
   "source": [
    "import pandas as pd\n",
    "import numpy as np\n",
    "\n",
    "data = {\n",
    "    'Student Name': ['Amelie', 'Edgar', 'Jordi', 'Marçal', 'Pep', 'Jaume', 'Marco', \n",
    "                     'Ludmila', 'Bastian', 'Marc', 'Gerardo', 'Javier', 'Frank', 'Julia'],\n",
    "    'Course': ['Artificial Intelligence', 'Python for Data Science', 'Cloud Computing', 'Computer Vision', \n",
    "               'Artificial Intelligence', 'Python for Data Science', 'Cloud Computing', 'Computer Vision', \n",
    "               'Artificial Intelligence', 'Python for Data Science', 'Cloud Computing', 'Computer Vision', \n",
    "               'Artificial Intelligence', 'Python for Data Science'],\n",
    "    'Grade': [85, 92, 78, 88, 91, 84, 73, 95, 90, 80, 85, 87, 89, 92],\n",
    "    'Gender': ['Female', 'Male', 'Male', 'Male', 'Male', 'Male', 'Male', 'Female', 'Male', 'Male', 'Male', 'Male', 'Male', 'Female'],\n",
    "    'Study Time': [15, 20, 10, 8, 18, 14, 11, 16, 19, 13, 16, 12, 17, 15],\n",
    "    'Age': [22, 21, 23, 22, 20, 24, 22, 21, 23, 21, 22, 22, 21, 20]\n",
    "}\n",
    "\n",
    "df = pd.DataFrame(data)\n",
    "df.head(5)"
   ]
  },
  {
   "cell_type": "code",
   "execution_count": null,
   "id": "955c4dbe",
   "metadata": {
    "slideshow": {
     "slide_type": "subslide"
    }
   },
   "outputs": [],
   "source": [
    "'''\n",
    "Let's plot some statistics using the data frame. We will start with categorical plots, catplot(),\n",
    "a figure-level function, and show we can do the same by calling barplot.\n",
    "'''\n",
    "\n",
    "import seaborn as sns\n",
    "\n",
    "sns.set_palette(\"Set2\") # Setting the palette, we can choose different ones, Set1 or Set2, tab10\n",
    "\n",
    "# colors = ['#1f77b4', '#ff7f0e', '#2ca02c', '#d62728']\n",
    "\n",
    "# Bar plot for average grades by course\n",
    "sns.catplot(x='Course', y='Grade', data=df, kind='bar', height=5, aspect=1.5)\n",
    "# hue adds a third dimension to the graphic\n",
    "#sns.catplot(x='Course', y='Grade', data=df, kind='bar', hue='Course', height=5, aspect=1.5, palette=colors)\n",
    "# we could also call barplot directly...\n",
    "# sns.barplot(x='Course', y='Grade', data=df)\n",
    "\n",
    "plt.title('Average Grade by Course', fontsize=14)\n",
    "plt.xlabel('Course', fontsize=10)\n",
    "plt.ylabel('Average Grade', fontsize=10)\n",
    "plt.xticks(rotation=45) # Another feature we can use!\n",
    "plt.show()"
   ]
  },
  {
   "cell_type": "code",
   "execution_count": null,
   "id": "a6a75a79",
   "metadata": {
    "slideshow": {
     "slide_type": "subslide"
    }
   },
   "outputs": [],
   "source": [
    "'''\n",
    "Now, we can use relplot() which help sus looking at the data based in a different way, \n",
    "trying to find out something about it, we can plot grades vs study time and see if \n",
    "the age provides some insights\n",
    "'''\n",
    "sns.set(style=\"whitegrid\")  # Set background style\n",
    "sns.relplot(x='Study Time', y='Grade', data=df, kind='scatter', hue='Course', palette='tab10', size='Age', sizes=(50, 200))\n",
    "\n",
    "plt.title('Study Time vs Grade by Course and Age', fontsize=12)\n",
    "plt.xlabel('Study Time (hours)', fontsize=12)\n",
    "plt.ylabel('Grade', fontsize=12)\n",
    "\n",
    "# adding some text\n",
    "for i in range(len(df)):\n",
    "    plt.text(df['Study Time'][i] + 0.2, df['Grade'][i], df['Student Name'][i], fontsize=9)\n",
    "\n",
    "plt.show()\n"
   ]
  },
  {
   "cell_type": "code",
   "execution_count": null,
   "id": "77bd2c41",
   "metadata": {
    "slideshow": {
     "slide_type": "subslide"
    }
   },
   "outputs": [],
   "source": [
    "'''\n",
    "We can also load datasets from Seaborn, and use 'hue' to target a specific category\n",
    "'''\n",
    "\n",
    "titanic = sns.load_dataset(\"titanic\")\n",
    "#print(titanic.head(4))\n",
    "print(titanic.columns)\n",
    "\n",
    "sns.catplot(data=titanic, x=\"sex\", y=\"survived\", hue=\"embark_town\", kind=\"bar\") # class\n",
    "plt.show()"
   ]
  },
  {
   "cell_type": "code",
   "execution_count": null,
   "id": "b2417f63",
   "metadata": {
    "slideshow": {
     "slide_type": "subslide"
    }
   },
   "outputs": [],
   "source": [
    "'''\n",
    "We can look at other columns to get more insights\n",
    "'''\n",
    "\n",
    "titanic = sns.load_dataset(\"titanic\")\n",
    "#print(titanic.head(4))\n",
    "print(titanic.columns)\n",
    "\n",
    "sns.catplot(data=titanic, x=\"embark_town\", y=\"survived\", hue=\"class\", kind=\"bar\") # class\n",
    "plt.show()"
   ]
  },
  {
   "cell_type": "code",
   "execution_count": null,
   "id": "ad9150fe",
   "metadata": {
    "slideshow": {
     "slide_type": "subslide"
    }
   },
   "outputs": [],
   "source": [
    "'''\n",
    "We can also use catplot with count\n",
    "'''\n",
    "\n",
    "sns.catplot(data=titanic, x=\"deck\", kind=\"count\")\n",
    "plt.suptitle('Number of persons per deck')\n",
    "plt.show()"
   ]
  },
  {
   "cell_type": "code",
   "execution_count": null,
   "id": "2aab3401",
   "metadata": {
    "slideshow": {
     "slide_type": "subslide"
    }
   },
   "outputs": [],
   "source": [
    "'''\n",
    "Via displot we can visualise distributions using a Kernel Density Estimate, kind='kde'\n",
    "'''\n",
    "sns.displot(df, x='Grade', hue='Course', kind='kde', height=5, aspect=1.5)\n",
    "# the density values represent probabilities, where the total sum of them is 1\n",
    "\n",
    "plt.title('Grade Distribution by Course (KDE)', fontsize=16)\n",
    "plt.xlabel('Grade', fontsize=12)\n",
    "plt.ylabel('Density', fontsize=12)\n",
    "plt.show()"
   ]
  },
  {
   "cell_type": "code",
   "execution_count": null,
   "id": "16d8cdb8",
   "metadata": {
    "slideshow": {
     "slide_type": "subslide"
    }
   },
   "outputs": [],
   "source": [
    "'''\n",
    "Can we make it cooler? Yes, we can!\n",
    "'''\n",
    "\n",
    "sns.displot(df, x='Grade', hue='Course', kind='kde', \n",
    "            fill=True, common_norm=False, palette=\"crest\", # filling them, changing palette\n",
    "            alpha=.5, linewidth=0, # adding some transparency and removing the contour\n",
    "            height=5, aspect=1.5)\n",
    "\n",
    "plt.title('Grade Distribution by Course (KDE)', fontsize=14)\n",
    "plt.xlabel('Grade', fontsize=12)\n",
    "plt.ylabel('Density', fontsize=12)\n",
    "plt.show()"
   ]
  },
  {
   "cell_type": "code",
   "execution_count": null,
   "id": "3d9d3a3a",
   "metadata": {},
   "outputs": [],
   "source": [
    "'''\n",
    "And we can also plot it on the other axis by simply changing x to y\n",
    "'''\n",
    "\n",
    "sns.displot(df, y='Grade', hue='Course', kind='kde', \n",
    "            fill=True, common_norm=False, palette=\"crest\", # filling them, changing palette\n",
    "            alpha=.5, linewidth=0, # adding some transparency and removing the contour\n",
    "            height=5, aspect=1.)\n",
    "\n",
    "plt.title('Grade Distribution by Course (KDE)', fontsize=14)\n",
    "plt.xlabel('Grade', fontsize=12)\n",
    "plt.ylabel('Density', fontsize=12)\n",
    "plt.show()"
   ]
  },
  {
   "cell_type": "code",
   "execution_count": null,
   "id": "5c9a7138",
   "metadata": {
    "slideshow": {
     "slide_type": "subslide"
    }
   },
   "outputs": [],
   "source": [
    "'''\n",
    "By calling kdeplot with multiple=fill, we can create a pretty cool plot, where \n",
    "in this case density values range from 0 to 1, and at every x-value we can draw\n",
    "a vertical line where each color's portion corresponds to the proportion of \n",
    "'''\n",
    "\n",
    "sns.kdeplot(data=df, x=\"Grade\", hue=\"Course\", multiple=\"fill\")\n",
    "\n",
    "plt.show()"
   ]
  },
  {
   "cell_type": "code",
   "execution_count": null,
   "id": "17c33e6a",
   "metadata": {
    "slideshow": {
     "slide_type": "subslide"
    }
   },
   "outputs": [],
   "source": [
    "'''\n",
    "Another typical way of representing intervals can be done via kind=box\n",
    "'''\n",
    "\n",
    "sns.catplot(x='Course', y='Grade', data=df, kind='box', hue='Gender', palette='Set2', height=5, aspect=1.5)\n",
    "\n",
    "# Add title and labels\n",
    "plt.title('Grade Distribution by Course and Gender', fontsize=16)\n",
    "plt.xlabel('Course', fontsize=12)\n",
    "plt.ylabel('Grade', fontsize=12)\n",
    "plt.show()"
   ]
  },
  {
   "cell_type": "code",
   "execution_count": null,
   "id": "0b0ff1a9",
   "metadata": {},
   "outputs": [],
   "source": [
    "'''\n",
    "Another option is violinplot, making the visualisation even better\n",
    "'''\n",
    "\n",
    "sns.catplot(x='Course', y='Grade', data=df, kind='violin', hue='Gender', palette='Set2', height=5, aspect=1.5)\n",
    "\n",
    "# Add title and labels\n",
    "plt.title('Grade Distribution by Course and Gender', fontsize=16)\n",
    "plt.xlabel('Course', fontsize=12)\n",
    "plt.ylabel('Grade', fontsize=12)\n",
    "plt.show()"
   ]
  },
  {
   "cell_type": "code",
   "execution_count": null,
   "id": "eb790e34",
   "metadata": {
    "slideshow": {
     "slide_type": "subslide"
    }
   },
   "outputs": [],
   "source": [
    "'''\n",
    "As we mentioned earlier, catplot, displot and relplot are FaceGrid subclasses, \n",
    "we can directly create a FaceGrid object and map every single column value \n",
    "'''\n",
    "\n",
    "g = sns.FacetGrid(df, col=\"Course\", hue=\"Gender\", height=6, aspect=1.2)\n",
    "g.map(sns.scatterplot, 'Study Time', 'Grade', s=120)\n",
    "\n",
    "g.set_axis_labels('Study Time (hours)', 'Grade', fontsize=14)\n",
    "g.set_titles(\"{col_name}\", size=16) # col_name will be replaced by each course name\n",
    "g.add_legend(title=\"Gender\", title_fontsize=12, fontsize=10) \n",
    "\n",
    "g.fig.suptitle('Study Time vs Grade by Course and Gender', fontsize=18, y=1.05)\n",
    "\n",
    "plt.show()"
   ]
  },
  {
   "cell_type": "code",
   "execution_count": null,
   "id": "2ed88b9f",
   "metadata": {
    "slideshow": {
     "slide_type": "subslide"
    }
   },
   "outputs": [],
   "source": [
    "'''\n",
    "Another super cool function we can use is heatmap to show us the correlation of our data  \n",
    "'''\n",
    "\n",
    "# corr() returns the correlation matrix of the columns \n",
    "corr = df[['Study Time', 'Age', 'Grade']].corr()\n",
    "\n",
    "# We can also define what cmap we want and min and max values\n",
    "sns.heatmap(corr, annot=True, cmap='coolwarm', vmin=-1, vmax=1, linewidths=1, linecolor='gray')\n",
    "\n",
    "plt.title('Correlation Heatmap', fontsize=14)\n",
    "plt.show()"
   ]
  },
  {
   "cell_type": "code",
   "execution_count": null,
   "id": "04a1359e",
   "metadata": {
    "slideshow": {
     "slide_type": "subslide"
    }
   },
   "outputs": [],
   "source": [
    "'''\n",
    "We can also visualize data calling pairplot, which allow us to pair two distributions which \n",
    "can allow us to identify some trends\n",
    "'''\n",
    "\n",
    "# Similar to plotting the heatmap of the correlation matrix, the diagonal is populated here\n",
    "# with the distributions of the KDE per Course type\n",
    "sns.pairplot(df[['Course', 'Study Time', 'Age', 'Grade']], hue='Course', palette='muted')\n",
    "\n",
    "plt.suptitle('Pairwise Relationships Between Study Time, Age, and Grade', fontsize=13, y=1.02)\n",
    "plt.show()"
   ]
  },
  {
   "cell_type": "code",
   "execution_count": null,
   "id": "7df69d85",
   "metadata": {
    "slideshow": {
     "slide_type": "subslide"
    }
   },
   "outputs": [],
   "source": [
    "'''\n",
    "Finally, another function we can use in conjuntion with kdeplot is rugplot\n",
    "'''\n",
    "\n",
    "sns.kdeplot(data=df, x=\"Grade\", fill=True, color=\"lightpink\", alpha=0.6)\n",
    "sns.rugplot(data=df, x=\"Grade\", height=0.1, color=\"darkblue\") # it's plot on top\n",
    "plt.title(\"Study Time Distribution with Rugplot\")\n",
    "plt.xlabel(\"Study Time (hours)\")\n",
    "plt.ylabel(\"Density\")\n",
    "plt.show()\n"
   ]
  },
  {
   "cell_type": "markdown",
   "id": "0fd3f648",
   "metadata": {
    "slideshow": {
     "slide_type": "slide"
    }
   },
   "source": [
    "## Plotting \n",
    "### Seaborn\n",
    "\n",
    "Home exercises. Note that you may need to also use pandas to answer some of the questions. \n",
    "\n",
    "1. Create a *lineplot* showing how **Study Time** varies by **Student Name**. Which student has the highest study time?\n",
    "\n",
    "2. Plot a histogram (*histplot*) of **Grade** and determine which grade range has the highest frequency of students.\n",
    "\n",
    "3. Create an ECDF plot (*ecdfplot*) for **Grade**. What is the percentage of students scoring less than 85?\n",
    "\n",
    "4. Create a *stripplot* showing **Grade** distribution for each **Course**. Which course has the most spread in grades?\n",
    "\n",
    "5. Create a *swarmplot* to show the relationship between Gender and **Study Time**. Which gender has a higher average study time?\n",
    "\n",
    "6. Plot a *pointplot* to show the average **Grade** for each Course. Which course has the highest average grade?"
   ]
  },
  {
   "cell_type": "code",
   "execution_count": null,
   "id": "94e99f5c",
   "metadata": {},
   "outputs": [
    {
     "data": {
      "image/png": "[encoded data removed]",
      "text/plain": [
       "<Figure size 640x480 with 1 Axes>"
      ]
     },
     "metadata": {},
     "output_type": "display_data"
    },
    {
     "name": "stdout",
     "output_type": "stream",
     "text": [
      "The student with the highest study time is: Edgar\n"
     ]
    },
    {
     "data": {
      "image/png": "[encoded data removed]",
      "text/plain": [
       "<Figure size 640x480 with 1 Axes>"
      ]
     },
     "metadata": {},
     "output_type": "display_data"
    },
    {
     "name": "stdout",
     "output_type": "stream",
     "text": [
      "The grade range with the highest frequency is: (90.6, 92.8]\n"
     ]
    },
    {
     "data": {
      "image/png": "[encoded data removed]",
      "text/plain": [
       "<Figure size 640x480 with 1 Axes>"
      ]
     },
     "metadata": {},
     "output_type": "display_data"
    },
    {
     "name": "stdout",
     "output_type": "stream",
     "text": [
      "The percentage of students scoring less than 85 is: 28.57%\n"
     ]
    },
    {
     "data": {
      "image/png": "[encoded data removed]",
      "text/plain": [
       "<Figure size 640x480 with 1 Axes>"
      ]
     },
     "metadata": {},
     "output_type": "display_data"
    },
    {
     "name": "stdout",
     "output_type": "stream",
     "text": [
      "The course with the most spread in grades is: Cloud Computing\n"
     ]
    },
    {
     "data": {
      "image/png": "[encoded data removed]",
      "text/plain": [
       "<Figure size 640x480 with 1 Axes>"
      ]
     },
     "metadata": {},
     "output_type": "display_data"
    },
    {
     "name": "stdout",
     "output_type": "stream",
     "text": [
      "The gender with the highest average study time is: Female\n"
     ]
    },
    {
     "data": {
      "image/png": "[encoded data removed]",
      "text/plain": [
       "<Figure size 640x480 with 1 Axes>"
      ]
     },
     "metadata": {},
     "output_type": "display_data"
    },
    {
     "name": "stdout",
     "output_type": "stream",
     "text": [
      "The course with the highest average grade is: Computer Vision\n"
     ]
    }
   ],
   "source": [
    "import pandas as pd\n",
    "import seaborn as sns\n",
    "import matplotlib.pyplot as plt\n",
    "\n",
    "# df defined in above exercises\n",
    "\n",
    "# 1. Lineplot\n",
    "sns.lineplot(x='Student Name', y='Study Time', data=df)\n",
    "plt.title(\"Study Time by Student Name\")\n",
    "plt.show()\n",
    "\n",
    "# Student with the highest study time\n",
    "max_study_time = df[df['Study Time'] == df['Study Time'].max()]['Student Name'].iloc[0]\n",
    "print(f\"The student with the highest study time is: {max_study_time}\")\n",
    "\n",
    "# 2. Histogram\n",
    "sns.histplot(df['Grade'], bins=10, kde=False)\n",
    "\n",
    "# Display plot\n",
    "plt.title(\"Histogram of Grades\")\n",
    "plt.xlabel(\"Grade\")\n",
    "plt.ylabel(\"Frequency\")\n",
    "plt.show()\n",
    "\n",
    "# Determine grade range with the highest frequency\n",
    "grade_range = pd.cut(df['Grade'], bins=10).value_counts().idxmax()\n",
    "print(f\"The grade range with the highest frequency is: {grade_range}\")\n",
    "\n",
    "# 3. ECDF plot\n",
    "sns.ecdfplot(df['Grade'])\n",
    "\n",
    "# Display plot\n",
    "plt.title(\"ECDF of Grades\")\n",
    "plt.xlabel(\"Grade\")\n",
    "plt.ylabel(\"ECDF\")\n",
    "plt.show()\n",
    "\n",
    "# Students scoring less than 85\n",
    "percentage_less_than_85 = (df['Grade'] < 85).mean() * 100\n",
    "print(f\"The percentage of students scoring less than 85 is: {percentage_less_than_85:.2f}%\")\n",
    "\n",
    "# 4.Create the stripplot\n",
    "sns.stripplot(x='Course', y='Grade', data=df, jitter=True)\n",
    "\n",
    "# Display the plot\n",
    "plt.title(\"Grade Distribution by Course\")\n",
    "plt.show()\n",
    "\n",
    "# Course with the most spread in grades\n",
    "spread = df.groupby('Course')['Grade'].std()\n",
    "course_with_max_spread = spread.idxmax()\n",
    "print(f\"The course with the most spread in grades is: {course_with_max_spread}\")\n",
    "\n",
    "# 5. Swarmplot\n",
    "sns.swarmplot(x='Gender', y='Study Time', data=df)\n",
    "\n",
    "# Display the plot\n",
    "plt.title(\"Study Time by Gender\")\n",
    "plt.show()\n",
    "\n",
    "# Gender with a higher average study time\n",
    "avg_study_time_by_gender = df.groupby('Gender')['Study Time'].mean()\n",
    "gender_with_highest_study_time = avg_study_time_by_gender.idxmax()\n",
    "print(f\"The gender with the highest average study time is: {gender_with_highest_study_time}\")\n",
    "\n",
    "# 6. Pointplot\n",
    "sns.pointplot(x='Course', y='Grade', data=df)\n",
    "\n",
    "# Display the plot\n",
    "plt.title(\"Average Grade by Course\")\n",
    "plt.show()\n",
    "\n",
    "#Course with highest average grade\n",
    "avg_grade_by_course = df.groupby('Course')['Grade'].mean()\n",
    "course_with_highest_avg_grade = avg_grade_by_course.idxmax()\n",
    "print(f\"The course with the highest average grade is: {course_with_highest_avg_grade}\")"
   ]
  },
  {
   "cell_type": "markdown",
   "id": "3f4ee2bd",
   "metadata": {
    "slideshow": {
     "slide_type": "slide"
    }
   },
   "source": [
    "## Plotting \n",
    "### Seaborn\n",
    "\n",
    "So far, we have seen different type of plotting functions, starting from simple ones using **Matplotlib**, to later finish using **Seaborn** together with **Matplotlib**, to visualize data in a cooler way.\n",
    "\n",
    "Now it's up to your imagination to visualise your data in the best possible way."
   ]
  }
 ],
 "metadata": {
  "celltoolbar": "Slideshow",
  "kernelspec": {
   "display_name": "Python 3",
   "language": "python",
   "name": "python3"
  },
  "language_info": {
   "codemirror_mode": {
    "name": "ipython",
    "version": 3
   },
   "file_extension": ".py",
   "mimetype": "text/x-python",
   "name": "python",
   "nbconvert_exporter": "python",
   "pygments_lexer": "ipython3",
   "version": "3.9.6"
  }
 },
 "nbformat": 4,
 "nbformat_minor": 5
}
